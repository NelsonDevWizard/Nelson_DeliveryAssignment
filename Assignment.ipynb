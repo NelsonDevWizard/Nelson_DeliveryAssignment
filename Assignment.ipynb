{
 "cells": [
  {
   "cell_type": "markdown",
   "id": "6daabbbe",
   "metadata": {},
   "source": []
  },
  {
   "cell_type": "code",
   "execution_count": 27,
   "id": "a60b7a82",
   "metadata": {},
   "outputs": [
    {
     "name": "stdout",
     "output_type": "stream",
     "text": [
      "Enter number of month : 3\n",
      "NO of working days in a month 24 DAYS\n",
      "NO of working days in  3 months is 24 Days\n",
      "amount of fuel consumed in a month is 400 litres\n",
      "amount of fuel consumed in a 3 months is 1200 litres\n"
     ]
    }
   ],
   "source": [
    "# if 50 litres of fuel is used in 3 days then 100 litres of fuel will be used in 6 days.\n",
    "day = 1\n",
    "fuel3days = int(day)*50 \n",
    "fuel6days = int(fuel3days)*2\n",
    "daysInaWorkingWeek = int(day)*6\n",
    "weeksInaMonth = 4\n",
    "\n",
    "#  analysis\n",
    "month = input('Enter number of month : ')\n",
    "workingDaysInaMonth = daysInaWorkingWeek*weeksInaMonth\n",
    "predictXmonths = int(month)*workingDaysInaMonth\n",
    "fuelInaMonth = fuel6days*weeksInaMonth\n",
    "predictFuelInXmonth = int(month)*fuelInaMonth\n",
    "\n",
    "print(\"NO of working days in a month\", workingDaysInaMonth, \"DAYS\")\n",
    "print(\"NO of working days in \", month , \"months is\", workingDaysInaMonth , \"Days\")\n",
    "print(\"Amount of fuel consumed in a month is\", fuelInaMonth, \"litres\")\n",
    "print(\"Amount of fuel consumed in a\", month ,\"months is\", predictFuelInXmonth,\"litres\")\n",
    "\n"
   ]
  },
  {
   "cell_type": "code",
   "execution_count": null,
   "id": "c756849b",
   "metadata": {},
   "outputs": [],
   "source": []
  }
 ],
 "metadata": {
  "kernelspec": {
   "display_name": "Python 3 (ipykernel)",
   "language": "python",
   "name": "python3"
  },
  "language_info": {
   "codemirror_mode": {
    "name": "ipython",
    "version": 3
   },
   "file_extension": ".py",
   "mimetype": "text/x-python",
   "name": "python",
   "nbconvert_exporter": "python",
   "pygments_lexer": "ipython3",
   "version": "3.11.1"
  }
 },
 "nbformat": 4,
 "nbformat_minor": 5
}
